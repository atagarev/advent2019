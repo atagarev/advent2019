{
 "cells": [
  {
   "cell_type": "markdown",
   "metadata": {},
   "source": [
    "# Part 1"
   ]
  },
  {
   "cell_type": "code",
   "execution_count": 19,
   "metadata": {},
   "outputs": [],
   "source": [
    "def parseLine(l):\n",
    "    try:\n",
    "        return int(l)\n",
    "    except ValueError:\n",
    "        print(\"Invalid value encountered in line: \" + l)\n",
    "\n",
    "def parseFile(fn):\n",
    "    with open(fn, 'r') as f:\n",
    "        resp = []\n",
    "        for l in f:\n",
    "            resp.append(parseLine(l))\n",
    "        return resp"
   ]
  },
  {
   "cell_type": "code",
   "execution_count": 20,
   "metadata": {},
   "outputs": [],
   "source": [
    "modules = parseFile(\"input.txt\")"
   ]
  },
  {
   "cell_type": "code",
   "execution_count": 22,
   "metadata": {},
   "outputs": [
    {
     "data": {
      "text/plain": [
       "3231941"
      ]
     },
     "execution_count": 22,
     "metadata": {},
     "output_type": "execute_result"
    }
   ],
   "source": [
    "import math\n",
    "s = 0\n",
    "for m in modules:\n",
    "    s += math.floor(m/3) - 2\n",
    "s"
   ]
  },
  {
   "cell_type": "markdown",
   "metadata": {},
   "source": [
    "# Part 2"
   ]
  },
  {
   "cell_type": "code",
   "execution_count": 24,
   "metadata": {},
   "outputs": [],
   "source": [
    "import math\n",
    "def addFuelMass(m0):\n",
    "    me = math.floor( m0/3 ) - 2\n",
    "    return m0 + addFuelMass(me) if me > 0 else m0"
   ]
  },
  {
   "cell_type": "code",
   "execution_count": 25,
   "metadata": {},
   "outputs": [
    {
     "data": {
      "text/plain": [
       "4845049"
      ]
     },
     "execution_count": 25,
     "metadata": {},
     "output_type": "execute_result"
    }
   ],
   "source": [
    "mTotal = 0\n",
    "mModules = parseFile(\"input.txt\")\n",
    "for m0 in mModules:\n",
    "    mTotal += (addFuelMass(m0) - m0)\n",
    "mTotal"
   ]
  }
 ],
 "metadata": {
  "kernelspec": {
   "display_name": "Python 3",
   "language": "python",
   "name": "python3"
  },
  "language_info": {
   "codemirror_mode": {
    "name": "ipython",
    "version": 3
   },
   "file_extension": ".py",
   "mimetype": "text/x-python",
   "name": "python",
   "nbconvert_exporter": "python",
   "pygments_lexer": "ipython3",
   "version": "3.7.3"
  }
 },
 "nbformat": 4,
 "nbformat_minor": 2
}
