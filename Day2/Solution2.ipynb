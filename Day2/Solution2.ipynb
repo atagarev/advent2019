{
 "cells": [
  {
   "cell_type": "markdown",
   "metadata": {},
   "source": [
    "# Part 1"
   ]
  },
  {
   "cell_type": "code",
   "execution_count": 25,
   "metadata": {},
   "outputs": [],
   "source": [
    "def parseInput(fn):\n",
    "    with open(fn, 'r') as f:\n",
    "        return [int(i) for i in f.read().split(\",\")]"
   ]
  },
  {
   "cell_type": "code",
   "execution_count": 138,
   "metadata": {},
   "outputs": [],
   "source": [
    "def operatorPlus(intCode, idx):\n",
    "    intCode[intCode[idx+3]] = intCode[intCode[idx+1]] + intCode[intCode[idx+2]]\n",
    "    return intCode, idx+4\n",
    "\n",
    "def operatorMult(intCode, idx):\n",
    "    intCode[intCode[idx+3]] = intCode[intCode[idx+1]] * intCode[intCode[idx+2]]\n",
    "    return intCode, idx+4\n",
    "\n",
    "def operatorDone(intCode, idx):\n",
    "    return intCode, -1\n",
    "\n",
    "def operatorUnknown(intCode, idx):\n",
    "    raise ValueError(\"Unknown operator encountered: \" + str(intCode[idx]))\n",
    "\n",
    "def runIntcode(intCode, idx):\n",
    "    if idx < 0 or idx >= len(intCode):\n",
    "        return intCode, idx\n",
    "    elif idx % 4 != 0: \n",
    "        raise ValueError(\"Invalid operator input index: \" + str(idx))\n",
    "    seq , idx = operators.get(intCode[idx], operatorUnknown)(intCode, idx)\n",
    "    return runIntcode(intCode, idx)\n",
    "    \n",
    "    \n",
    "operators = {1: operatorPlus,\n",
    "             2: operatorMult,\n",
    "             99: operatorDone\n",
    "            }"
   ]
  },
  {
   "cell_type": "code",
   "execution_count": 173,
   "metadata": {},
   "outputs": [],
   "source": [
    "def run1202():\n",
    "    seq = parseInput(\"input.txt\")\n",
    "    seq[1] = 12\n",
    "    seq[2] = 2\n",
    "    return runIntcode(seq.copy(), 0)"
   ]
  },
  {
   "cell_type": "code",
   "execution_count": 174,
   "metadata": {},
   "outputs": [],
   "source": [
    "seq , idx = run1202()"
   ]
  },
  {
   "cell_type": "code",
   "execution_count": 160,
   "metadata": {},
   "outputs": [],
   "source": [
    "test_seqs = [[1,0,0,0,99], [2,3,0,3,99], [2,4,4,5,99,0], [1,1,1,4,99,5,6,0,99], [1,9,10,3,2,3,11,0,99,30,40,50]]\n",
    "test_outs = [[2,0,0,0,99], [2,3,0,6,99], [2,4,4,5,99,9801], [30,1,1,4,2,5,6,0,99], [3500,9,10,70,2,3,11,0,99,30,40,50]]"
   ]
  },
  {
   "cell_type": "code",
   "execution_count": 185,
   "metadata": {},
   "outputs": [],
   "source": [
    "def runStep2(seq, n, v):\n",
    "    s = seq.copy()\n",
    "    s[1] = n\n",
    "    s[2] = v\n",
    "    s , idx = runIntcode(s, 0)\n",
    "    if s[0] == 19690720:\n",
    "        return True\n",
    "    return False"
   ]
  },
  {
   "cell_type": "code",
   "execution_count": 186,
   "metadata": {},
   "outputs": [
    {
     "ename": "NameError",
     "evalue": "name 'true' is not defined",
     "output_type": "error",
     "traceback": [
      "\u001b[0;31m---------------------------------------------------------------------------\u001b[0m",
      "\u001b[0;31mNameError\u001b[0m                                 Traceback (most recent call last)",
      "\u001b[0;32m<ipython-input-186-3fb436b01aae>\u001b[0m in \u001b[0;36m<module>\u001b[0;34m\u001b[0m\n\u001b[1;32m      2\u001b[0m \u001b[0;32mfor\u001b[0m \u001b[0mn\u001b[0m \u001b[0;32min\u001b[0m \u001b[0mrange\u001b[0m\u001b[0;34m(\u001b[0m\u001b[0;36m0\u001b[0m\u001b[0;34m,\u001b[0m \u001b[0;36m99\u001b[0m\u001b[0;34m)\u001b[0m\u001b[0;34m:\u001b[0m\u001b[0;34m\u001b[0m\u001b[0;34m\u001b[0m\u001b[0m\n\u001b[1;32m      3\u001b[0m     \u001b[0;32mfor\u001b[0m \u001b[0mv\u001b[0m \u001b[0;32min\u001b[0m \u001b[0mrange\u001b[0m\u001b[0;34m(\u001b[0m\u001b[0;36m0\u001b[0m\u001b[0;34m,\u001b[0m \u001b[0;36m99\u001b[0m\u001b[0;34m)\u001b[0m\u001b[0;34m:\u001b[0m\u001b[0;34m\u001b[0m\u001b[0;34m\u001b[0m\u001b[0m\n\u001b[0;32m----> 4\u001b[0;31m         \u001b[0;32mif\u001b[0m \u001b[0mrunStep2\u001b[0m\u001b[0;34m(\u001b[0m\u001b[0mseq\u001b[0m\u001b[0;34m,\u001b[0m \u001b[0mn\u001b[0m\u001b[0;34m,\u001b[0m \u001b[0mv\u001b[0m\u001b[0;34m)\u001b[0m \u001b[0;34m==\u001b[0m \u001b[0mtrue\u001b[0m \u001b[0;34m:\u001b[0m\u001b[0;34m\u001b[0m\u001b[0;34m\u001b[0m\u001b[0m\n\u001b[0m\u001b[1;32m      5\u001b[0m             \u001b[0mprint\u001b[0m\u001b[0;34m(\u001b[0m\u001b[0;34mf'Proper values are {n} and {v}.'\u001b[0m\u001b[0;34m)\u001b[0m\u001b[0;34m\u001b[0m\u001b[0;34m\u001b[0m\u001b[0m\n",
      "\u001b[0;31mNameError\u001b[0m: name 'true' is not defined"
     ]
    }
   ],
   "source": [
    "seq = parseInput(\"input.txt\")\n",
    "for n in range(0, 99):\n",
    "    for v in range(0, 99):\n",
    "        if runStep2(seq, n, v) == true :\n",
    "            print(f'Proper values are {n} and {v}.')"
   ]
  },
  {
   "cell_type": "code",
   "execution_count": 179,
   "metadata": {},
   "outputs": [
    {
     "ename": "SyntaxError",
     "evalue": "illegal target for annotation (<ipython-input-179-5528be6db6d2>, line 1)",
     "output_type": "error",
     "traceback": [
      "\u001b[0;36m  File \u001b[0;32m\"<ipython-input-179-5528be6db6d2>\"\u001b[0;36m, line \u001b[0;32m1\u001b[0m\n\u001b[0;31m    0:9\u001b[0m\n\u001b[0m       ^\u001b[0m\n\u001b[0;31mSyntaxError\u001b[0m\u001b[0;31m:\u001b[0m illegal target for annotation\n"
     ]
    }
   ],
   "source": []
  }
 ],
 "metadata": {
  "kernelspec": {
   "display_name": "Python 3",
   "language": "python",
   "name": "python3"
  },
  "language_info": {
   "codemirror_mode": {
    "name": "ipython",
    "version": 3
   },
   "file_extension": ".py",
   "mimetype": "text/x-python",
   "name": "python",
   "nbconvert_exporter": "python",
   "pygments_lexer": "ipython3",
   "version": "3.7.3"
  }
 },
 "nbformat": 4,
 "nbformat_minor": 2
}
